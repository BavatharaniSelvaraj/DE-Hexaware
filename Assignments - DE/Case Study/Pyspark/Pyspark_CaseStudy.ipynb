{
  "nbformat": 4,
  "nbformat_minor": 0,
  "metadata": {
    "colab": {
      "provenance": []
    },
    "kernelspec": {
      "name": "python3",
      "display_name": "Python 3"
    },
    "language_info": {
      "name": "python"
    }
  },
  "cells": [
    {
      "cell_type": "code",
      "execution_count": 1,
      "metadata": {
        "colab": {
          "base_uri": "https://localhost:8080/"
        },
        "id": "33xXqvuSS0IQ",
        "outputId": "2d10af73-3fa2-4225-a4e7-da6cfabbdf8b"
      },
      "outputs": [
        {
          "output_type": "stream",
          "name": "stdout",
          "text": [
            "root\n",
            " |-- Customer_ID: string (nullable = true)\n",
            " |-- Age: integer (nullable = true)\n",
            " |-- Gender: string (nullable = true)\n",
            " |-- Occupation: string (nullable = true)\n",
            " |-- Marital Status: string (nullable = true)\n",
            " |-- Family Size: integer (nullable = true)\n",
            " |-- Income: integer (nullable = true)\n",
            " |-- Expenditure: integer (nullable = true)\n",
            " |-- Use Frequency: integer (nullable = true)\n",
            " |-- Loan Category: string (nullable = true)\n",
            " |-- Loan Amount: string (nullable = true)\n",
            " |-- Overdue: integer (nullable = true)\n",
            " |--  Debt Record: string (nullable = true)\n",
            " |--  Returned Cheque: integer (nullable = true)\n",
            " |--  Dishonour of Bill: integer (nullable = true)\n",
            "\n",
            "root\n",
            " |-- RowNumber: integer (nullable = true)\n",
            " |-- CustomerId: integer (nullable = true)\n",
            " |-- Surname: string (nullable = true)\n",
            " |-- CreditScore: integer (nullable = true)\n",
            " |-- Geography: string (nullable = true)\n",
            " |-- Gender: string (nullable = true)\n",
            " |-- Age: integer (nullable = true)\n",
            " |-- Tenure: integer (nullable = true)\n",
            " |-- Balance: double (nullable = true)\n",
            " |-- NumOfProducts: integer (nullable = true)\n",
            " |-- IsActiveMember: integer (nullable = true)\n",
            " |-- EstimatedSalary: double (nullable = true)\n",
            " |-- Exited: integer (nullable = true)\n",
            "\n",
            "root\n",
            " |-- Account No: string (nullable = true)\n",
            " |-- TRANSACTION DETAILS: string (nullable = true)\n",
            " |-- VALUE DATE: string (nullable = true)\n",
            " |--  WITHDRAWAL AMT : string (nullable = true)\n",
            " |--  DEPOSIT AMT : string (nullable = true)\n",
            " |-- BALANCE AMT: double (nullable = true)\n",
            "\n",
            "+-----------+---+------+------------+--------------+-----------+------+-----------+-------------+-------------+-----------+-------+------------+----------------+------------------+\n",
            "|Customer_ID|Age|Gender|  Occupation|Marital Status|Family Size|Income|Expenditure|Use Frequency|Loan Category|Loan Amount|Overdue| Debt Record| Returned Cheque| Dishonour of Bill|\n",
            "+-----------+---+------+------------+--------------+-----------+------+-----------+-------------+-------------+-----------+-------+------------+----------------+------------------+\n",
            "|    IB14001| 30|  MALE|BANK MANAGER|        SINGLE|          4| 50000|      22199|            6|      HOUSING| 10,00,000 |      5|      42,898|               6|                 9|\n",
            "|    IB14008| 44|  MALE|   PROFESSOR|       MARRIED|          6| 51000|      19999|            4|     SHOPPING|     50,000|      3|      33,999|               1|                 5|\n",
            "|    IB14012| 30|FEMALE|     DENTIST|        SINGLE|          3| 58450|      27675|            5|   TRAVELLING|     75,000|      6|      20,876|               3|                 1|\n",
            "|    IB14018| 29|  MALE|     TEACHER|       MARRIED|          5| 45767|      12787|            3|    GOLD LOAN|  6,00,000 |      7|      11,000|               0|                 4|\n",
            "|    IB14022| 34|  MALE|      POLICE|        SINGLE|          4| 43521|      11999|            3|   AUTOMOBILE|  2,00,000 |      2|      43,898|               1|                 2|\n",
            "+-----------+---+------+------------+--------------+-----------+------+-----------+-------------+-------------+-----------+-------+------------+----------------+------------------+\n",
            "only showing top 5 rows\n",
            "\n",
            "+---------+----------+--------+-----------+---------+------+---+------+---------+-------------+--------------+---------------+------+\n",
            "|RowNumber|CustomerId| Surname|CreditScore|Geography|Gender|Age|Tenure|  Balance|NumOfProducts|IsActiveMember|EstimatedSalary|Exited|\n",
            "+---------+----------+--------+-----------+---------+------+---+------+---------+-------------+--------------+---------------+------+\n",
            "|        1|  15634602|Hargrave|        619|   France|Female| 42|     2|      0.0|            1|             1|      101348.88|     1|\n",
            "|        2|  15647311|    Hill|        608|    Spain|Female| 41|     1| 83807.86|            1|             1|      112542.58|     0|\n",
            "|        3|  15619304|    Onio|        502|   France|Female| 42|     8| 159660.8|            3|             0|      113931.57|     1|\n",
            "|        4|  15701354|    Boni|        699|   France|Female| 39|     1|      0.0|            2|             0|       93826.63|     0|\n",
            "|        5|  15737888|Mitchell|        850|    Spain|Female| 43|     2|125510.82|            1|             1|        79084.1|     0|\n",
            "+---------+----------+--------+-----------+---------+------+---+------+---------+-------------+--------------+---------------+------+\n",
            "only showing top 5 rows\n",
            "\n",
            "+-------------+--------------------+----------+----------------+-------------+-----------+\n",
            "|   Account No| TRANSACTION DETAILS|VALUE DATE| WITHDRAWAL AMT | DEPOSIT AMT |BALANCE AMT|\n",
            "+-------------+--------------------+----------+----------------+-------------+-----------+\n",
            "|409000611074'|TRF FROM  Indiafo...| 29-Jun-17|            NULL|      1000000|  1000000.0|\n",
            "|409000611074'|TRF FROM  Indiafo...|  5-Jul-17|            NULL|      1000000|  2000000.0|\n",
            "|409000611074'|FDRL/INTERNAL FUN...| 18-Jul-17|            NULL|       500000|  2500000.0|\n",
            "|409000611074'|TRF FRM  Indiafor...|  1-Aug-17|            NULL|      3000000|  5500000.0|\n",
            "|409000611074'|FDRL/INTERNAL FUN...| 16-Aug-17|            NULL|       500000|  6000000.0|\n",
            "+-------------+--------------------+----------+----------------+-------------+-----------+\n",
            "only showing top 5 rows\n",
            "\n"
          ]
        }
      ],
      "source": [
        "from pyspark.sql import SparkSession\n",
        "from pyspark.sql.functions import *\n",
        "\n",
        "# Start SparkSession\n",
        "spark = SparkSession.builder \\\n",
        "    .appName(\"Online Banking Analysis\") \\\n",
        "    .getOrCreate()\n",
        "# Load loan.csv\n",
        "loan_df = spark.read.csv(\"/content/loan.csv\", header=True, inferSchema=True)\n",
        "\n",
        "# Load credit card.csv\n",
        "credit_df = spark.read.csv(\"/content/credit card.csv\", header=True, inferSchema=True)\n",
        "\n",
        "# Load txn.csv\n",
        "txn_df = spark.read.csv(\"/content/txn.csv\", header=True, inferSchema=True)\n",
        "\n",
        "# Display schema\n",
        "loan_df.printSchema()\n",
        "credit_df.printSchema()\n",
        "txn_df.printSchema()\n",
        "\n",
        "# Show first few records\n",
        "loan_df.show(5)\n",
        "credit_df.show(5)\n",
        "txn_df.show(5)\n"
      ]
    },
    {
      "cell_type": "code",
      "source": [
        "loan_df.groupBy(\"Loan Category\").count().show()\n"
      ],
      "metadata": {
        "colab": {
          "base_uri": "https://localhost:8080/"
        },
        "id": "Y48q0zoic6ZQ",
        "outputId": "aee328ca-0492-43a0-a016-f8d5cd8af511"
      },
      "execution_count": 3,
      "outputs": [
        {
          "output_type": "stream",
          "name": "stdout",
          "text": [
            "+------------------+-----+\n",
            "|     Loan Category|count|\n",
            "+------------------+-----+\n",
            "|           HOUSING|   67|\n",
            "|        TRAVELLING|   53|\n",
            "|       BOOK STORES|    7|\n",
            "|       AGRICULTURE|   12|\n",
            "|         GOLD LOAN|   77|\n",
            "|  EDUCATIONAL LOAN|   20|\n",
            "|        AUTOMOBILE|   60|\n",
            "|          BUSINESS|   24|\n",
            "|COMPUTER SOFTWARES|   35|\n",
            "|           DINNING|   14|\n",
            "|          SHOPPING|   35|\n",
            "|       RESTAURANTS|   41|\n",
            "|       ELECTRONICS|   14|\n",
            "|          BUILDING|    7|\n",
            "|        RESTAURANT|   20|\n",
            "|   HOME APPLIANCES|   14|\n",
            "+------------------+-----+\n",
            "\n"
          ]
        }
      ]
    },
    {
      "cell_type": "code",
      "source": [
        "for col_name in loan_df.columns:\n",
        "    loan_df = loan_df.withColumnRenamed(col_name, col_name.strip().replace(\" \", \"_\").replace(\"-\", \"_\"))\n"
      ],
      "metadata": {
        "id": "kvafJYGxedPb"
      },
      "execution_count": 5,
      "outputs": []
    },
    {
      "cell_type": "code",
      "source": [
        "\n",
        "# Filtering customers who took a loan greater than 1 lakh\n",
        "loan_df.filter(loan_df[\"Loan_Amount\"] > 100000).count()"
      ],
      "metadata": {
        "colab": {
          "base_uri": "https://localhost:8080/"
        },
        "id": "bxmrWS3CeoVG",
        "outputId": "694bea10-9d4e-4797-dc70-a4631bec0627"
      },
      "execution_count": 6,
      "outputs": [
        {
          "output_type": "execute_result",
          "data": {
            "text/plain": [
              "0"
            ]
          },
          "metadata": {},
          "execution_count": 6
        }
      ]
    },
    {
      "cell_type": "code",
      "source": [
        "\n",
        "# Filtering rows where income is greater than 60,000\n",
        "loan_df.filter(col(\"Income\") > 60000).count()\n",
        ""
      ],
      "metadata": {
        "colab": {
          "base_uri": "https://localhost:8080/"
        },
        "id": "gg6ayJo5e4dA",
        "outputId": "593670da-90c6-460b-baa1-979a78d2453e"
      },
      "execution_count": 7,
      "outputs": [
        {
          "output_type": "execute_result",
          "data": {
            "text/plain": [
              "198"
            ]
          },
          "metadata": {},
          "execution_count": 7
        }
      ]
    },
    {
      "cell_type": "code",
      "source": [
        "# Applying multiple conditions using logical AND (&)\n",
        "loan_df.filter((col(\"Returned_Cheque\") >= 2) & (col(\"Income\") < 50000)).count()"
      ],
      "metadata": {
        "colab": {
          "base_uri": "https://localhost:8080/"
        },
        "id": "XS86jYOUe9B_",
        "outputId": "82134638-f484-489a-d49a-6d35abc7d078"
      },
      "execution_count": 10,
      "outputs": [
        {
          "output_type": "execute_result",
          "data": {
            "text/plain": [
              "137"
            ]
          },
          "metadata": {},
          "execution_count": 10
        }
      ]
    },
    {
      "cell_type": "code",
      "source": [
        "# Filtering by returned cheques and marital status\n",
        "loan_df.filter((col(\"Returned_Cheque\") >= 2) & (col(\"Marital_Status\") == \"Single\")).count()"
      ],
      "metadata": {
        "colab": {
          "base_uri": "https://localhost:8080/"
        },
        "id": "LomzVw7zfLWg",
        "outputId": "1f3b9888-0106-4841-9d3d-7e4eab970db5"
      },
      "execution_count": 11,
      "outputs": [
        {
          "output_type": "execute_result",
          "data": {
            "text/plain": [
              "0"
            ]
          },
          "metadata": {},
          "execution_count": 11
        }
      ]
    },
    {
      "cell_type": "code",
      "source": [
        "# Filtering high monthly spenders\n",
        "loan_df.filter(col(\"Expenditure\") > 50000).count()"
      ],
      "metadata": {
        "colab": {
          "base_uri": "https://localhost:8080/"
        },
        "id": "bThWaUV3fPGm",
        "outputId": "46312201-1a48-48df-95cc-6417753caac9"
      },
      "execution_count": 12,
      "outputs": [
        {
          "output_type": "execute_result",
          "data": {
            "text/plain": [
              "6"
            ]
          },
          "metadata": {},
          "execution_count": 12
        }
      ]
    },
    {
      "cell_type": "code",
      "source": [
        "# Example rule: Eligible if debt record is good and they use banking services frequently\n",
        "loan_df.filter((col(\"Use_Frequency\") > 10) & (col(\"Debt_Record\") == \"Good\")).count()"
      ],
      "metadata": {
        "colab": {
          "base_uri": "https://localhost:8080/"
        },
        "id": "nTSbiPtNfVIS",
        "outputId": "31b0a0c5-0499-4c1f-8841-65ab34c4d743"
      },
      "execution_count": 13,
      "outputs": [
        {
          "output_type": "execute_result",
          "data": {
            "text/plain": [
              "0"
            ]
          },
          "metadata": {},
          "execution_count": 13
        }
      ]
    },
    {
      "cell_type": "code",
      "source": [
        "for col_name in credit_df.columns:\n",
        "    credit_df = credit_df.withColumnRenamed(col_name, col_name.strip().replace(\" \", \"_\").replace(\"-\", \"_\"))"
      ],
      "metadata": {
        "id": "h7TtSkaKfcmB"
      },
      "execution_count": 14,
      "outputs": []
    },
    {
      "cell_type": "code",
      "source": [
        "for col_name in txn_df.columns:\n",
        "    txn_df = txn_df.withColumnRenamed(col_name, col_name.strip().replace(\" \", \"_\").replace(\"-\", \"_\"))"
      ],
      "metadata": {
        "id": "lk1qTsMYflSA"
      },
      "execution_count": 15,
      "outputs": []
    },
    {
      "cell_type": "code",
      "source": [
        "# 1. Show number of credit card users located in Spain\n",
        "\n",
        "credit_df.filter(col(\"Geography\") == \"Spain\").count()\n"
      ],
      "metadata": {
        "colab": {
          "base_uri": "https://localhost:8080/"
        },
        "id": "lJPRK0t8fwAR",
        "outputId": "69084689-b7ab-4224-969d-803c63248222"
      },
      "execution_count": 16,
      "outputs": [
        {
          "output_type": "execute_result",
          "data": {
            "text/plain": [
              "2477"
            ]
          },
          "metadata": {},
          "execution_count": 16
        }
      ]
    },
    {
      "cell_type": "code",
      "source": [
        "# Example threshold: Credit Score >= 650 is eligible\n",
        "credit_df.filter((col(\"CreditScore\") >= 650) & (col(\"IsActiveMember\") == 1)).count()"
      ],
      "metadata": {
        "colab": {
          "base_uri": "https://localhost:8080/"
        },
        "id": "Se2hHgvSfyo1",
        "outputId": "98567a4b-ce66-4aa8-a20e-02f68727e3ff"
      },
      "execution_count": 17,
      "outputs": [
        {
          "output_type": "execute_result",
          "data": {
            "text/plain": [
              "2672"
            ]
          },
          "metadata": {},
          "execution_count": 17
        }
      ]
    },
    {
      "cell_type": "code",
      "source": [
        "credit_df.filter((col(\"CreditScore\") >= 650) & (col(\"IsActiveMember\") == 1)).show()"
      ],
      "metadata": {
        "colab": {
          "base_uri": "https://localhost:8080/"
        },
        "id": "jLesasq6fysb",
        "outputId": "b8e5e134-bd9c-4bba-9ec1-17fd87032b22"
      },
      "execution_count": 18,
      "outputs": [
        {
          "output_type": "stream",
          "name": "stdout",
          "text": [
            "+---------+----------+---------+-----------+---------+------+---+------+---------+-------------+--------------+---------------+------+\n",
            "|RowNumber|CustomerId|  Surname|CreditScore|Geography|Gender|Age|Tenure|  Balance|NumOfProducts|IsActiveMember|EstimatedSalary|Exited|\n",
            "+---------+----------+---------+-----------+---------+------+---+------+---------+-------------+--------------+---------------+------+\n",
            "|        5|  15737888| Mitchell|        850|    Spain|Female| 43|     2|125510.82|            1|             1|        79084.1|     0|\n",
            "|        7|  15592531| Bartlett|        822|   France|  Male| 50|     7|      0.0|            2|             1|        10062.8|     0|\n",
            "|       10|  15592389|       H?|        684|   France|  Male| 27|     2|134603.88|            1|             1|       71725.73|     0|\n",
            "|       20|  15568982|      Hao|        726|   France|Female| 24|     6|      0.0|            2|             1|       54724.03|     0|\n",
            "|       21|  15577657| McDonald|        732|   France|  Male| 41|     8|      0.0|            2|             1|      170886.17|     0|\n",
            "|       24|  15725737|   Mosman|        669|   France|  Male| 46|     3|      0.0|            2|             1|        8487.75|     0|\n",
            "|       25|  15625047|      Yen|        846|   France|Female| 38|     5|      0.0|            1|             1|      187616.16|     0|\n",
            "|       27|  15736816|    Young|        756|  Germany|  Male| 36|     2|136815.64|            1|             1|      170041.95|     0|\n",
            "|       35|  15732963| Clements|        722|    Spain|Female| 29|     9|      0.0|            2|             1|      142033.07|     0|\n",
            "|       38|  15729599|  Lorenzo|        804|    Spain|  Male| 33|     7|  76548.6|            1|             1|       98453.45|     0|\n",
            "|       39|  15717426|Armstrong|        850|   France|  Male| 36|     7|      0.0|            1|             1|        40812.9|     0|\n",
            "|       45|  15684171|  Bianchi|        660|    Spain|Female| 61|     5|155931.11|            1|             1|      158338.39|     0|\n",
            "|       46|  15754849|    Tyler|        776|  Germany|Female| 32|     4|109421.13|            2|             1|      126517.46|     0|\n",
            "|       47|  15602280|   Martin|        829|  Germany|Female| 27|     9|112045.67|            1|             1|      119708.21|     1|\n",
            "|       64|  15751208|  Pirozzi|        684|    Spain|  Male| 56|     8| 78707.16|            1|             1|       99398.36|     0|\n",
            "|       66|  15789484|  Hammond|        751|  Germany|Female| 36|     6|169831.46|            2|             1|       27758.36|     0|\n",
            "|       68|  15641582|  Chibugo|        735|  Germany|  Male| 43|    10|123180.01|            2|             1|      196673.28|     0|\n",
            "|       69|  15638424|  Glauert|        661|  Germany|Female| 35|     5|150725.53|            2|             1|      113656.85|     0|\n",
            "|       73|  15812518|  Palermo|        657|    Spain|Female| 37|     0|163607.18|            1|             1|       44203.55|     0|\n",
            "|       77|  15614049|       Hu|        664|   France|  Male| 55|     8|      0.0|            2|             1|      139161.64|     0|\n",
            "+---------+----------+---------+-----------+---------+------+---+------+---------+-------------+--------------+---------------+------+\n",
            "only showing top 20 rows\n",
            "\n"
          ]
        }
      ]
    },
    {
      "cell_type": "code",
      "source": [
        "from pyspark.sql.functions import max, col\n",
        "\n",
        "txn_df.select(\n",
        "    max(col(\"WITHDRAWAL_AMT\").cast(\"double\")).alias(\"Max_Withdrawal\")\n",
        ").show()\n"
      ],
      "metadata": {
        "colab": {
          "base_uri": "https://localhost:8080/"
        },
        "id": "RWjBMJn6iWRQ",
        "outputId": "32c02b8e-48d6-4637-b837-1ad8338549a2"
      },
      "execution_count": 25,
      "outputs": [
        {
          "output_type": "stream",
          "name": "stdout",
          "text": [
            "+--------------+\n",
            "|Max_Withdrawal|\n",
            "+--------------+\n",
            "|         4.0E8|\n",
            "+--------------+\n",
            "\n"
          ]
        }
      ]
    },
    {
      "cell_type": "code",
      "source": [
        "#Minimum Withdrawal Amount\n",
        "txn_df.select(min(\"WITHDRAWAL_AMT\").alias(\"Min_Withdrawal_Amount\")).show()"
      ],
      "metadata": {
        "colab": {
          "base_uri": "https://localhost:8080/"
        },
        "id": "eWmjxv0xht11",
        "outputId": "a3b395d5-8c38-42f8-f74e-d09a4f251a50"
      },
      "execution_count": 23,
      "outputs": [
        {
          "output_type": "stream",
          "name": "stdout",
          "text": [
            "+---------------------+\n",
            "|Min_Withdrawal_Amount|\n",
            "+---------------------+\n",
            "|                 0.01|\n",
            "+---------------------+\n",
            "\n"
          ]
        }
      ]
    },
    {
      "cell_type": "code",
      "source": [
        "#Maximum Deposit Amount\n",
        "txn_df.select(max(\"DEPOSIT_AMT\").alias(\"Max_Deposit_Amount\")).show()"
      ],
      "metadata": {
        "colab": {
          "base_uri": "https://localhost:8080/"
        },
        "id": "IBv8O_UUjCYV",
        "outputId": "d89005a5-cb2e-47ac-f4c6-9f6a6f0c0c8b"
      },
      "execution_count": 26,
      "outputs": [
        {
          "output_type": "stream",
          "name": "stdout",
          "text": [
            "+------------------+\n",
            "|Max_Deposit_Amount|\n",
            "+------------------+\n",
            "|           9999999|\n",
            "+------------------+\n",
            "\n"
          ]
        }
      ]
    },
    {
      "cell_type": "code",
      "source": [
        "# Minimum Deposit Amount\n",
        "txn_df.select(min(\"DEPOSIT_AMT\").alias(\"Min_Deposit_Amount\")).show()\n"
      ],
      "metadata": {
        "colab": {
          "base_uri": "https://localhost:8080/"
        },
        "id": "Ej-Y4zKMjH6Z",
        "outputId": "f5ac4d25-50a7-4999-e7b6-64a1fdd4059e"
      },
      "execution_count": 28,
      "outputs": [
        {
          "output_type": "stream",
          "name": "stdout",
          "text": [
            "+------------------+\n",
            "|Min_Deposit_Amount|\n",
            "+------------------+\n",
            "|       -1667026170|\n",
            "+------------------+\n",
            "\n"
          ]
        }
      ]
    },
    {
      "cell_type": "code",
      "source": [
        "\n",
        "#Sum of Balance Amount in Each Bank Account\n",
        "\n",
        "txn_df.groupBy(\"Account_No\") \\\n",
        "      .sum(\"BALANCE_AMT\") \\\n",
        "      .withColumnRenamed(\"sum(BALANCE_AMT)\", \"Total_Balance\") \\\n",
        "      .show()\n"
      ],
      "metadata": {
        "colab": {
          "base_uri": "https://localhost:8080/"
        },
        "id": "qlgEE1z5jZfY",
        "outputId": "7be0385e-cd44-4027-845f-080275d697d4"
      },
      "execution_count": 29,
      "outputs": [
        {
          "output_type": "stream",
          "name": "stdout",
          "text": [
            "+-------------+--------------------+\n",
            "|   Account_No|       Total_Balance|\n",
            "+-------------+--------------------+\n",
            "|409000438611'|-2.49486577068339...|\n",
            "|     1196711'|-1.37810146616539...|\n",
            "|     1196428'| -2.8115133425562E13|\n",
            "|409000493210'|-3.27584952132095...|\n",
            "|409000611074'|       1.615533622E9|\n",
            "|409000425051'|-3.77211841164998...|\n",
            "|409000405747'|-2.43108047067000...|\n",
            "|409000493201'|1.0420831829499985E9|\n",
            "|409000438620'|-7.12237285703308...|\n",
            "+-------------+--------------------+\n",
            "\n"
          ]
        }
      ]
    },
    {
      "cell_type": "code",
      "source": [
        "# Number of Transactions Happening on Each Date\n",
        "\n",
        "txn_df.groupBy(\"VALUE_DATE\") \\\n",
        "      .agg(count(\"*\").alias(\"Transaction_Count\")) \\\n",
        "      .orderBy(\"VALUE_DATE\") \\\n",
        "      .show()"
      ],
      "metadata": {
        "colab": {
          "base_uri": "https://localhost:8080/"
        },
        "id": "Cue5k4RqjfMQ",
        "outputId": "a15d6f7e-140a-4ba6-aec1-2b00d363d42d"
      },
      "execution_count": 30,
      "outputs": [
        {
          "output_type": "stream",
          "name": "stdout",
          "text": [
            "+----------+-----------------+\n",
            "|VALUE_DATE|Transaction_Count|\n",
            "+----------+-----------------+\n",
            "|      NULL|                1|\n",
            "|  1-Aug-15|               27|\n",
            "|  1-Aug-16|               46|\n",
            "|  1-Aug-17|               13|\n",
            "|  1-Aug-18|               65|\n",
            "|  1-Dec-16|               73|\n",
            "|  1-Dec-17|                2|\n",
            "|  1-Dec-18|               38|\n",
            "|  1-Feb-16|               51|\n",
            "|  1-Feb-17|               44|\n",
            "|  1-Feb-18|               17|\n",
            "|  1-Feb-19|               37|\n",
            "|  1-Jan-15|                1|\n",
            "|  1-Jan-18|               22|\n",
            "|  1-Jan-19|               33|\n",
            "|  1-Jul-15|                4|\n",
            "|  1-Jul-16|               65|\n",
            "|  1-Jul-17|              191|\n",
            "|  1-Jun-16|               72|\n",
            "|  1-Jun-17|               14|\n",
            "+----------+-----------------+\n",
            "only showing top 20 rows\n",
            "\n"
          ]
        }
      ]
    },
    {
      "cell_type": "code",
      "source": [
        "# Customers With Withdrawal Amount Greater Than ₹1,00,000\n",
        "\n",
        "txn_df.filter(col(\"WITHDRAWAL_AMT\") > 100000) \\\n",
        "      .select(\"Account_No\", \"WITHDRAWAL_AMT\", \"VALUE_DATE\") \\\n",
        "      .orderBy(col(\"WITHDRAWAL_AMT\").desc()) \\\n",
        "      .show()\n",
        ""
      ],
      "metadata": {
        "colab": {
          "base_uri": "https://localhost:8080/"
        },
        "id": "8cngLYhBjklb",
        "outputId": "be92b64a-1671-4a9b-d54d-40fb2ac25d39"
      },
      "execution_count": 31,
      "outputs": [
        {
          "output_type": "stream",
          "name": "stdout",
          "text": [
            "+-------------+--------------+----------+\n",
            "|   Account_No|WITHDRAWAL_AMT|VALUE_DATE|\n",
            "+-------------+--------------+----------+\n",
            "|409000438620'|       9947700| 15-May-17|\n",
            "|409000438620'|        994755| 30-Jan-17|\n",
            "|409000438620'|       9939786| 23-May-17|\n",
            "|409000438620'|        993499| 14-Mar-17|\n",
            "|409000438611'|       9900000| 15-Jan-18|\n",
            "|409000438611'|       9900000| 31-Jul-18|\n",
            "|409000438620'|       9900000|  2-May-17|\n",
            "|409000438620'|       9900000|  2-May-18|\n",
            "|409000438620'|        983537| 11-Jan-17|\n",
            "|409000438611'|       9800000| 14-Dec-18|\n",
            "|409000438620'|        977095| 27-Jan-17|\n",
            "|409000438620'|       9710101| 17-Jan-19|\n",
            "|409000438611'|       9700000| 27-Aug-18|\n",
            "|409000438611'|       9700000| 25-Sep-18|\n",
            "|409000438611'|       9700000| 27-Nov-18|\n",
            "|409000438620'|       9700000| 26-Oct-17|\n",
            "|409000438620'|       9600000| 16-May-17|\n",
            "|409000438620'|       9600000| 30-Nov-17|\n",
            "|409000438620'|       9600000| 23-Feb-18|\n",
            "|409000438620'|       9600000|  7-Mar-18|\n",
            "+-------------+--------------+----------+\n",
            "only showing top 20 rows\n",
            "\n"
          ]
        }
      ]
    }
  ]
}